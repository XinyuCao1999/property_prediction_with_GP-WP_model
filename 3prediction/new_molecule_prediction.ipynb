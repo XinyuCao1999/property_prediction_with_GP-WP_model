{
 "cells": [
  {
   "cell_type": "markdown",
   "id": "c9d640ca",
   "metadata": {},
   "source": [
    "# This file illustrates how to use the trained models to predict the property of a new molecule"
   ]
  },
  {
   "cell_type": "code",
   "execution_count": 83,
   "id": "b6e0371b",
   "metadata": {},
   "outputs": [],
   "source": [
    "#Set the current directory to the downloaded file\n",
    "file_path=r\"C:\\Users\\cheese_cake\\Desktop\\jenny\\程序\\22_12product design\"\n",
    "\n",
    "#set the property(see variable \"name\" below,abbreviation is the same as that in paper)\n",
    "index=0\n",
    "\n",
    "#set the group-contribution representation of the molecule\n",
    "mole=[0,0,0,0,0,0,0,0,0,0,0,0,0,0,3,0,0,0,0,0,0,0,0,0,0,0,0,0,0,0,0,1,0,0,0,0,0,0,0,0,0,0,0,0,0,0,0,0,0,0,0,0,0,0,0,0,0,0,0,0,0,0,0,0,0,0,0,0,0,0,0,0,0,0,0,0,0,0,0,0,0,0,0,0,0,0,0,0,0,0,0,0,0,0,0,0,0,0,0,0,0,0,0,0,0,0,0,0,0,0,0,0,0,0,0,0,0,0,0,0,0,0,2,0,0,0,0,0,0,0,0,0,0,0,0,0,0,0,0,0,0,0,0,0,0,0,0,0,0,0,0,0,0,0,0,0,0,0,0,0,0,0,0,0,0,0,0,0,0,0,0,0,0,0,0,0,0,0,0,0,0,0,0,0,0,0,0,0,0,0,0,0,0,0,0,0,0,0,0,0,0,0,0,0,0,0,0,0,0,0,0,0,0,0,0,0,0,0,0,0,0,0,0,0,0,0,0,0,0,0,0,0,0,0,0,0,0,0,0,0,0,0,0,0,0,0,0,0,0,0,0,0,0,0,0,0,0,0,0,0,0,0,0,0,0,0,0,0,0,0,0,0,0,0,0,0,0,0,0,0,0,0,0,0,0,0,0,0,0,0,0,0,0,0,0,0,0,0,0,0,0,0,0,0,0,0,0,0,0,0,0,0,0,0,0,0,0,0,0,0,0,0,0,0,0,0,0,1,0,0,0,0,0,0,0,0,0,0,0,0,0,0,0,0,0,0,0,0,0,0,0,0,0,0,0,0,0,0,0,0,0,0,0,0,0,0,0,0,0,0,0,0,0,0,0,0,0,0,0,0,0,0,0,0,0,0,0,0,0,0,0,0,0,0,0,0,0,0,0,0,0,0,0,0,0,0,0,0,0,0,0,0,0,0,0,0,0,0,0,0,0,0,0,0]\n",
    "mole=np.array(mole)"
   ]
  },
  {
   "cell_type": "code",
   "execution_count": 84,
   "id": "df711fde",
   "metadata": {},
   "outputs": [],
   "source": [
    "import os  \n",
    "import warnings\n",
    "os.chdir(file_path+\"\\\\3prediction\")  \n",
    "warnings.filterwarnings(\"ignore\")\n",
    "import pickle\n",
    "import pandas as pd\n",
    "import numpy as np\n",
    "from ProductDesignFunction import RMSE,R_square\n",
    "os.chdir(file_path)\n",
    "name=[\"tb\",\"vc\",\"tc\",\"pc\",\"ait\",\n",
    "  \"Bcf\",\"Gf\",\"Hf\",\"Hfus\",\"Hsolp\",\n",
    "  \"Hv\",\"Lc50_fm\",\"Ld50\",\"Lmv\",\"Logp\",\n",
    "  \"Logws\",\"Osha_twa\",\"Pco\",\"Pka\",\"Tm\"]\n",
    "#load the model\n",
    "model_path=\"2model/allmodel_\"+str(index)+\"_\"+name[index]+\".sav\" \n",
    "model = pickle.load(open(model_path, 'rb'))"
   ]
  },
  {
   "cell_type": "markdown",
   "id": "a80df140",
   "metadata": {},
   "source": [
    "### 1.SVR model\n",
    "model[\"simple_model_coef\"] and model[\"simple_model_intercept\"] is the coefficient and the intercept"
   ]
  },
  {
   "cell_type": "code",
   "execution_count": 85,
   "id": "b3d97b41",
   "metadata": {},
   "outputs": [
    {
     "name": "stdout",
     "output_type": "stream",
     "text": [
      "prediction value of SVR model for property tb is: 556.5657096906646\n"
     ]
    }
   ],
   "source": [
    "predict_SVR=mole@model[\"simple_model_coef\"]+model[\"simple_model_intercept\"]\n",
    "print(\"prediction value of SVR model for property \"+name[index]+\" is:\",predict_SVR)"
   ]
  },
  {
   "cell_type": "markdown",
   "id": "08d78901",
   "metadata": {},
   "source": [
    "### 2.GP model\n",
    "model[\"normal_model\"] is the normal Gaussian Process model\n",
    "\n",
    "predict both values and uncertainties"
   ]
  },
  {
   "cell_type": "code",
   "execution_count": 86,
   "id": "ea1efa75",
   "metadata": {},
   "outputs": [
    {
     "name": "stdout",
     "output_type": "stream",
     "text": [
      "prediction value of GP model for property tb is: [516.59389161]\n",
      "uncertainty of GP model for property tb is: [0.89822655]\n"
     ]
    }
   ],
   "source": [
    "test_pre,test_std=model[\"normal_model\"].predict(mole.reshape(1,-1),1)\n",
    "print(\"prediction value of GP model for property \"+name[index]+\" is:\",test_pre)\n",
    "print(\"uncertainty of GP model for property \"+name[index]+\" is:\",test_std)"
   ]
  },
  {
   "cell_type": "markdown",
   "id": "6161c61a",
   "metadata": {},
   "source": [
    "### 3.GP-WP model\n",
    "model[\"distort_model\"] is the model only with a warping function, with model[\"distort_alpha\"] being the hyperparameter in the warping function\n",
    "\n",
    "model[\"prior_model\"] is the model only with the non-zero prior\n",
    "\n",
    "model[\"combination_model\"] is the model with warping function and non-zero prior ,with model[\"combination_alpha\"] being the hyperparameter in the warping function\n",
    "\n",
    "predict both values and uncertainties"
   ]
  },
  {
   "cell_type": "code",
   "execution_count": 87,
   "id": "db552bdc",
   "metadata": {},
   "outputs": [
    {
     "name": "stdout",
     "output_type": "stream",
     "text": [
      "prediction value of GP-WP model1 for property tb is: [530.90093007]\n",
      "uncertainty of GP-WP model1 for property tb is: [1.0421155]\n",
      "prediction value of GP-WP model2 for property tb is: [555.26740013]\n",
      "uncertainty of GP-WP model2 for property tb is: [1.3222979]\n",
      "prediction value of GP-WP model3 for property tb is: [550.72418265]\n",
      "uncertainty of GP-WP model3 for property tb is: [1.14992407]\n"
     ]
    }
   ],
   "source": [
    "#for warping function only\n",
    "test_input_distort=np.log(mole.reshape(1,-1)+1)/np.log(model[\"distort_alpha\"]) \n",
    "test_pre,test_std=model[\"distort_model\"].predict(test_input_distort,1)\n",
    "print(\"prediction value of GP-WP model1 for property \"+name[index]+\" is:\",test_pre)\n",
    "print(\"uncertainty of GP-WP model1 for property \"+name[index]+\" is:\",test_std)\n",
    "\n",
    "#for non-zero prior only\n",
    "test_pre=model[\"prior_model\"].predict(mole.reshape(1,-1))+mole@model[\"simple_model_coef\"]+model[\"simple_model_intercept\"]\n",
    "test_std=model[\"prior_model\"].predict(mole.reshape(1,-1),1)[1]\n",
    "print(\"prediction value of GP-WP model2 for property \"+name[index]+\" is:\",test_pre)\n",
    "print(\"uncertainty of GP-WP model2 for property \"+name[index]+\" is:\",test_std)\n",
    "\n",
    "\n",
    "#for conbination(with non-zero prior and warping function)\n",
    "test_input_distort=np.log(mole.reshape(1,-1)+1)/np.log(model[\"combination_alpha\"])\n",
    "test_pre=model[\"combination_model\"].predict(test_input_distort)+mole@model[\"simple_model_coef\"]+model[\"simple_model_intercept\"]\n",
    "test_std=model[\"combination_model\"].predict(test_input_distort,1)[1]\n",
    "print(\"prediction value of GP-WP model3 for property \"+name[index]+\" is:\",test_pre)\n",
    "print(\"uncertainty of GP-WP model3 for property \"+name[index]+\" is:\",test_std)"
   ]
  },
  {
   "cell_type": "code",
   "execution_count": null,
   "id": "e20b562c",
   "metadata": {},
   "outputs": [],
   "source": []
  }
 ],
 "metadata": {
  "kernelspec": {
   "display_name": "Python 3 (ipykernel)",
   "language": "python",
   "name": "python3"
  },
  "language_info": {
   "codemirror_mode": {
    "name": "ipython",
    "version": 3
   },
   "file_extension": ".py",
   "mimetype": "text/x-python",
   "name": "python",
   "nbconvert_exporter": "python",
   "pygments_lexer": "ipython3",
   "version": "3.9.7"
  },
  "varInspector": {
   "cols": {
    "lenName": 16,
    "lenType": 16,
    "lenVar": 40
   },
   "kernels_config": {
    "python": {
     "delete_cmd_postfix": "",
     "delete_cmd_prefix": "del ",
     "library": "var_list.py",
     "varRefreshCmd": "print(var_dic_list())"
    },
    "r": {
     "delete_cmd_postfix": ") ",
     "delete_cmd_prefix": "rm(",
     "library": "var_list.r",
     "varRefreshCmd": "cat(var_dic_list()) "
    }
   },
   "types_to_exclude": [
    "module",
    "function",
    "builtin_function_or_method",
    "instance",
    "_Feature"
   ],
   "window_display": false
  }
 },
 "nbformat": 4,
 "nbformat_minor": 5
}
